{
 "cells": [
  {
   "cell_type": "markdown",
   "id": "0d0bf405",
   "metadata": {},
   "source": [
    "# Decision Tree Implementation"
   ]
  },
  {
   "cell_type": "markdown",
   "id": "7b29ba80",
   "metadata": {},
   "source": [
    "### The Project is Divided into 4 parts :\n",
    "- Loading and Cleaning Data Set\n",
    "- Printing Decision Tree Steps\n",
    "- Recreating the Actual Decision Tree\n",
    "-  Visualizing Decision Tree from graph_viz using the inbuilt Classifier"
   ]
  },
  {
   "cell_type": "markdown",
   "id": "db35171c",
   "metadata": {},
   "source": [
    "### Note : \n",
    "- Expanation for some parts are given at the start of that part"
   ]
  },
  {
   "cell_type": "markdown",
   "id": "7385f039",
   "metadata": {},
   "source": [
    "### Importing Libraries"
   ]
  },
  {
   "cell_type": "code",
   "execution_count": 1,
   "id": "7437fc81",
   "metadata": {},
   "outputs": [],
   "source": [
    "import pandas as pd\n",
    "import numpy as np\n",
    "import matplotlib.pyplot as plt\n",
    "import seaborn as sns\n",
    "from sklearn.tree import DecisionTreeClassifier, plot_tree\n",
    "from sklearn.tree import export_graphviz\n",
    "from IPython.display import Image\n",
    "import pydotplus\n",
    "from sklearn import datasets\n",
    "from sklearn.metrics import classification_report, confusion_matrix\n",
    "import math\n",
    "from sklearn.model_selection import train_test_split"
   ]
  },
  {
   "cell_type": "markdown",
   "id": "800c7507",
   "metadata": {},
   "source": [
    "### 1. Loading and Cleaning Dataset"
   ]
  },
  {
   "cell_type": "markdown",
   "id": "604420f9",
   "metadata": {},
   "source": [
    "### Explanantion\n",
    "1. This part deals with cleaning the dataset and changing continuous values to discrete values. Since Decision Tree works best on categorical data\n",
    "2. To do so, there are 2 functions created :\n",
    "- get_range_dict()\n",
    "    - This function create class intervals among the continuous values and group them accordingly. \n",
    "    For example, given 'Age' column with values - 23, 45, 56, 1, 2\n",
    "    It will create a dictionary such as {group 1 : [0 - 5], group 2 : [5 - 10]}\n",
    "- continous_to_discrete()\n",
    "    - This function uses the dictionary returned by the previous function and traverse all continuous values of the column and change to the group according to the range.\n",
    "    \n",
    "- Formula used to make k groups :\n",
    "    - group_size = (max_value - min_value) / number_of_groups_to_be_made\n",
    "    - kth_group_range = (min_val + (k - 1) * group_size, min_val + (k) * group_size)"
   ]
  },
  {
   "cell_type": "markdown",
   "id": "5d5bb49c",
   "metadata": {},
   "source": [
    "#### Loading Data"
   ]
  },
  {
   "cell_type": "code",
   "execution_count": 2,
   "id": "c2eb80ab",
   "metadata": {},
   "outputs": [],
   "source": [
    "## loading dataset\n",
    "iris = datasets.load_iris()\n",
    "iris_x = iris.data\n",
    "iris_y = iris.target\n",
    "iris = pd.DataFrame(iris_x, columns = ['sepal_length', 'sepal_width', 'petal_length', 'petal_width'])\n",
    "## merging output column in the dataframe\n",
    "iris['Y'] = iris_y"
   ]
  },
  {
   "cell_type": "code",
   "execution_count": 3,
   "id": "93cab213",
   "metadata": {},
   "outputs": [
    {
     "data": {
      "text/html": [
       "<div>\n",
       "<style scoped>\n",
       "    .dataframe tbody tr th:only-of-type {\n",
       "        vertical-align: middle;\n",
       "    }\n",
       "\n",
       "    .dataframe tbody tr th {\n",
       "        vertical-align: top;\n",
       "    }\n",
       "\n",
       "    .dataframe thead th {\n",
       "        text-align: right;\n",
       "    }\n",
       "</style>\n",
       "<table border=\"1\" class=\"dataframe\">\n",
       "  <thead>\n",
       "    <tr style=\"text-align: right;\">\n",
       "      <th></th>\n",
       "      <th>sepal_length</th>\n",
       "      <th>sepal_width</th>\n",
       "      <th>petal_length</th>\n",
       "      <th>petal_width</th>\n",
       "      <th>Y</th>\n",
       "    </tr>\n",
       "  </thead>\n",
       "  <tbody>\n",
       "    <tr>\n",
       "      <th>0</th>\n",
       "      <td>5.1</td>\n",
       "      <td>3.5</td>\n",
       "      <td>1.4</td>\n",
       "      <td>0.2</td>\n",
       "      <td>0</td>\n",
       "    </tr>\n",
       "    <tr>\n",
       "      <th>1</th>\n",
       "      <td>4.9</td>\n",
       "      <td>3.0</td>\n",
       "      <td>1.4</td>\n",
       "      <td>0.2</td>\n",
       "      <td>0</td>\n",
       "    </tr>\n",
       "    <tr>\n",
       "      <th>2</th>\n",
       "      <td>4.7</td>\n",
       "      <td>3.2</td>\n",
       "      <td>1.3</td>\n",
       "      <td>0.2</td>\n",
       "      <td>0</td>\n",
       "    </tr>\n",
       "    <tr>\n",
       "      <th>3</th>\n",
       "      <td>4.6</td>\n",
       "      <td>3.1</td>\n",
       "      <td>1.5</td>\n",
       "      <td>0.2</td>\n",
       "      <td>0</td>\n",
       "    </tr>\n",
       "    <tr>\n",
       "      <th>4</th>\n",
       "      <td>5.0</td>\n",
       "      <td>3.6</td>\n",
       "      <td>1.4</td>\n",
       "      <td>0.2</td>\n",
       "      <td>0</td>\n",
       "    </tr>\n",
       "    <tr>\n",
       "      <th>...</th>\n",
       "      <td>...</td>\n",
       "      <td>...</td>\n",
       "      <td>...</td>\n",
       "      <td>...</td>\n",
       "      <td>...</td>\n",
       "    </tr>\n",
       "    <tr>\n",
       "      <th>145</th>\n",
       "      <td>6.7</td>\n",
       "      <td>3.0</td>\n",
       "      <td>5.2</td>\n",
       "      <td>2.3</td>\n",
       "      <td>2</td>\n",
       "    </tr>\n",
       "    <tr>\n",
       "      <th>146</th>\n",
       "      <td>6.3</td>\n",
       "      <td>2.5</td>\n",
       "      <td>5.0</td>\n",
       "      <td>1.9</td>\n",
       "      <td>2</td>\n",
       "    </tr>\n",
       "    <tr>\n",
       "      <th>147</th>\n",
       "      <td>6.5</td>\n",
       "      <td>3.0</td>\n",
       "      <td>5.2</td>\n",
       "      <td>2.0</td>\n",
       "      <td>2</td>\n",
       "    </tr>\n",
       "    <tr>\n",
       "      <th>148</th>\n",
       "      <td>6.2</td>\n",
       "      <td>3.4</td>\n",
       "      <td>5.4</td>\n",
       "      <td>2.3</td>\n",
       "      <td>2</td>\n",
       "    </tr>\n",
       "    <tr>\n",
       "      <th>149</th>\n",
       "      <td>5.9</td>\n",
       "      <td>3.0</td>\n",
       "      <td>5.1</td>\n",
       "      <td>1.8</td>\n",
       "      <td>2</td>\n",
       "    </tr>\n",
       "  </tbody>\n",
       "</table>\n",
       "<p>150 rows × 5 columns</p>\n",
       "</div>"
      ],
      "text/plain": [
       "     sepal_length  sepal_width  petal_length  petal_width  Y\n",
       "0             5.1          3.5           1.4          0.2  0\n",
       "1             4.9          3.0           1.4          0.2  0\n",
       "2             4.7          3.2           1.3          0.2  0\n",
       "3             4.6          3.1           1.5          0.2  0\n",
       "4             5.0          3.6           1.4          0.2  0\n",
       "..            ...          ...           ...          ... ..\n",
       "145           6.7          3.0           5.2          2.3  2\n",
       "146           6.3          2.5           5.0          1.9  2\n",
       "147           6.5          3.0           5.2          2.0  2\n",
       "148           6.2          3.4           5.4          2.3  2\n",
       "149           5.9          3.0           5.1          1.8  2\n",
       "\n",
       "[150 rows x 5 columns]"
      ]
     },
     "execution_count": 3,
     "metadata": {},
     "output_type": "execute_result"
    }
   ],
   "source": [
    "iris"
   ]
  },
  {
   "cell_type": "markdown",
   "id": "4710dadc",
   "metadata": {},
   "source": [
    "#### Changing Continuous Values to Discrete Values"
   ]
  },
  {
   "cell_type": "code",
   "execution_count": 4,
   "id": "900fa795",
   "metadata": {},
   "outputs": [],
   "source": [
    "def get_range_dict(feature, bins) :\n",
    "    \n",
    "    ## bins = number of groups to be made\n",
    "    group_size = ((feature.max() - feature.min()) / bins)\n",
    "    ## this dictionary will contain group_number as keys and min_max range as value\n",
    "    class_intervals = dict()\n",
    "    ## using the formula to make ranges\n",
    "    for group_number in range(1, bins + 1) :\n",
    "        \n",
    "        range_min = feature.min() + ((group_number - 1) * group_size)\n",
    "        range_max = feature.min() + ((group_number) * group_size)\n",
    "        \n",
    "        class_intervals[group_number] = (range_min, range_max)\n",
    "    \n",
    "    return class_intervals"
   ]
  },
  {
   "cell_type": "code",
   "execution_count": 5,
   "id": "2ed091af",
   "metadata": {},
   "outputs": [],
   "source": [
    "def continous_to_discrete(feature, class_intervals) :\n",
    "    ## creating new column list\n",
    "    new_group = list()\n",
    "    \n",
    "    ## traversing the column values\n",
    "    for feature_value in feature :\n",
    "        ## special case for the max value as range = [a, b) b not included, this means that max value won't be included\n",
    "        ## so putting max value in the last group\n",
    "        if feature_value == feature.max() : \n",
    "            new_group.append(len(class_intervals))    \n",
    "        \n",
    "        else :\n",
    "            for group in class_intervals :\n",
    "                mini = class_intervals[group][0]\n",
    "                maxi = class_intervals[group][1]\n",
    "\n",
    "                if ((feature_value >= mini) and (feature_value < maxi)) :\n",
    "\n",
    "                    new_group.append(group)\n",
    "                    break\n",
    "                \n",
    "    return new_group"
   ]
  },
  {
   "cell_type": "code",
   "execution_count": 6,
   "id": "a853f45e",
   "metadata": {},
   "outputs": [],
   "source": [
    "## dataframe has output column as well, so excluding the output column as its position is -1\n",
    "features = iris.columns[: -1]\n",
    "## traversing all columns\n",
    "for feature in features :\n",
    "    ## defining k (number of groups to be made)\n",
    "    k = 5\n",
    "    class_intervals = get_range_dict(iris[feature], k)\n",
    "    iris[feature] = continous_to_discrete(iris[feature], class_intervals)"
   ]
  },
  {
   "cell_type": "code",
   "execution_count": 7,
   "id": "4c037529",
   "metadata": {},
   "outputs": [
    {
     "data": {
      "text/html": [
       "<div>\n",
       "<style scoped>\n",
       "    .dataframe tbody tr th:only-of-type {\n",
       "        vertical-align: middle;\n",
       "    }\n",
       "\n",
       "    .dataframe tbody tr th {\n",
       "        vertical-align: top;\n",
       "    }\n",
       "\n",
       "    .dataframe thead th {\n",
       "        text-align: right;\n",
       "    }\n",
       "</style>\n",
       "<table border=\"1\" class=\"dataframe\">\n",
       "  <thead>\n",
       "    <tr style=\"text-align: right;\">\n",
       "      <th></th>\n",
       "      <th>sepal_length</th>\n",
       "      <th>sepal_width</th>\n",
       "      <th>petal_length</th>\n",
       "      <th>petal_width</th>\n",
       "      <th>Y</th>\n",
       "    </tr>\n",
       "  </thead>\n",
       "  <tbody>\n",
       "    <tr>\n",
       "      <th>0</th>\n",
       "      <td>2</td>\n",
       "      <td>4</td>\n",
       "      <td>1</td>\n",
       "      <td>1</td>\n",
       "      <td>0</td>\n",
       "    </tr>\n",
       "    <tr>\n",
       "      <th>1</th>\n",
       "      <td>1</td>\n",
       "      <td>3</td>\n",
       "      <td>1</td>\n",
       "      <td>1</td>\n",
       "      <td>0</td>\n",
       "    </tr>\n",
       "    <tr>\n",
       "      <th>2</th>\n",
       "      <td>1</td>\n",
       "      <td>3</td>\n",
       "      <td>1</td>\n",
       "      <td>1</td>\n",
       "      <td>0</td>\n",
       "    </tr>\n",
       "    <tr>\n",
       "      <th>3</th>\n",
       "      <td>1</td>\n",
       "      <td>3</td>\n",
       "      <td>1</td>\n",
       "      <td>1</td>\n",
       "      <td>0</td>\n",
       "    </tr>\n",
       "    <tr>\n",
       "      <th>4</th>\n",
       "      <td>1</td>\n",
       "      <td>4</td>\n",
       "      <td>1</td>\n",
       "      <td>1</td>\n",
       "      <td>0</td>\n",
       "    </tr>\n",
       "  </tbody>\n",
       "</table>\n",
       "</div>"
      ],
      "text/plain": [
       "   sepal_length  sepal_width  petal_length  petal_width  Y\n",
       "0             2            4             1            1  0\n",
       "1             1            3             1            1  0\n",
       "2             1            3             1            1  0\n",
       "3             1            3             1            1  0\n",
       "4             1            4             1            1  0"
      ]
     },
     "execution_count": 7,
     "metadata": {},
     "output_type": "execute_result"
    }
   ],
   "source": [
    "## new iris dataframe\n",
    "iris.head()"
   ]
  },
  {
   "cell_type": "markdown",
   "id": "39a7ebb5",
   "metadata": {},
   "source": [
    "### 2. Printing Decision Tree Steps"
   ]
  },
  {
   "cell_type": "code",
   "execution_count": 8,
   "id": "68c591d9",
   "metadata": {},
   "outputs": [],
   "source": [
    "## the main function\n",
    "## this is a recursive function\n",
    "def print_decision_tree(iris, features, level) :\n",
    "    print('Level', level)\n",
    "    ## printing the state of current node output set, val : val_count\n",
    "    print_output_set(iris)\n",
    "    ## calculating entropy for current node\n",
    "    current_entropy = calculate_entropy(iris)\n",
    "    print('Current Entropy is =', current_entropy)\n",
    "    \n",
    "    ## base case\n",
    "    ## There are 2 base cases\n",
    "    \n",
    "    ## If the current node is leaf node\n",
    "    \n",
    "    if len(features) == 0 :\n",
    "        print('Reached leaf Node')\n",
    "        return\n",
    "    \n",
    "    ## pure output\n",
    "    ## checking if the node is pure, that is, if the output set just has 1 value\n",
    "    pure = check_pure(iris)\n",
    "    if pure :\n",
    "        print('Reached leaf Node')\n",
    "        return\n",
    "    \n",
    "    ## since the node is neither leaf or pure, we will split the tree in this case with best feature possible\n",
    "    ## To get the best accuracy score we will split the tree here, by selecting the best feature\n",
    "    ## Calculating the best feature -> finding the feature which has the max gain ratio\n",
    "    \n",
    "    ## Traversing all features and calculating gain ratios for each ratio and getting the max best\n",
    "    \n",
    "    max_gain_ratio = -math.inf\n",
    "    max_feature = None\n",
    "    \n",
    "    for feature in features :\n",
    "        \n",
    "        ## calling function for calculating gain ratio\n",
    "        gain_ratio = calculate_gain_ratio(iris, feature)\n",
    "        \n",
    "        if gain_ratio > max_gain_ratio :\n",
    "            max_gain_ratio = gain_ratio\n",
    "            max_feature = feature\n",
    "    \n",
    "    print('Splitting on feature', max_feature, 'with gain ratio', max_gain_ratio)\n",
    "    \n",
    "    ## Since this is a recursive function, we are following a 'top-down' approach, for each new recursive call we will\n",
    "    ## provide new feature column\n",
    "    \n",
    "    ## creating new features list\n",
    "    ## this won't be having the current selected feature for the new recursive calls\n",
    "    new_features = []\n",
    "    \n",
    "    for feature in features :\n",
    "        \n",
    "        if feature != max_feature :\n",
    "            new_features.append(feature)\n",
    "    \n",
    "    ## recursive call on each category of the best feature column\n",
    "    unique_feature_val = list(set(iris[max_feature]))\n",
    "    \n",
    "    for feature_val in unique_feature_val :\n",
    "        sub_iris = iris[iris[max_feature] == feature_val]\n",
    "        print()\n",
    "        ## recurive call\n",
    "        print_decision_tree(sub_iris, new_features, level + 1)"
   ]
  },
  {
   "cell_type": "code",
   "execution_count": 9,
   "id": "2c1cc174",
   "metadata": {},
   "outputs": [],
   "source": [
    "## This function prints the state of current node output set. val : count of values\n",
    "def print_output_set(iris) :\n",
    "    \n",
    "    ## creating a dictionary\n",
    "    val_count = iris.Y.value_counts().to_dict()\n",
    "    myKeys = list(val_count.keys())\n",
    "    ## sorting the dictionaries by keys\n",
    "    myKeys.sort()\n",
    "    sorted_dict = {i: val_count[i] for i in myKeys}\n",
    "    \n",
    "    ## printing state\n",
    "    for key in sorted_dict :\n",
    "        print('Count of', key, 'is =', sorted_dict[key])"
   ]
  },
  {
   "cell_type": "code",
   "execution_count": 10,
   "id": "00d1daf1",
   "metadata": {},
   "outputs": [],
   "source": [
    "def calculate_entropy(iris) :\n",
    "    \n",
    "    ## entropy formula for a current node = -sum(pi * log(pi)), where pi = count of a particular value / total count\n",
    "    ## creating dictionary\n",
    "    val_count = iris.Y.value_counts().to_dict()\n",
    "    entropy = 0\n",
    "    ## traversing the dictionary and subtracting all entropies\n",
    "    for val in val_count :\n",
    "        sub_df = iris[iris.Y == val]\n",
    "        expression = len(sub_df) / len(iris)\n",
    "        proba = expression * math.log(expression, 2)\n",
    "        entropy -= proba\n",
    "    \n",
    "    return entropy"
   ]
  },
  {
   "cell_type": "code",
   "execution_count": 11,
   "id": "9c697eb7",
   "metadata": {},
   "outputs": [],
   "source": [
    "## returns true if output set is unique\n",
    "def check_pure(iris) :\n",
    "    ## creating value count dictionary\n",
    "    val_count = iris.Y.value_counts().to_dict()\n",
    "    ## if length of dictionary is 1, that is, there is only one value in output set\n",
    "    if len(val_count) == 1 :\n",
    "        return True\n",
    "    else :\n",
    "        return False"
   ]
  },
  {
   "cell_type": "code",
   "execution_count": 12,
   "id": "437eb272",
   "metadata": {},
   "outputs": [],
   "source": [
    "## gain_ratio = information_gain / split_info\n",
    "def calculate_gain_ratio(iris, feature) :\n",
    "    \n",
    "    ### calculating information_gain first\n",
    "    ### total information gain = (parent_entropy) - (sum of weighted average of child entropies)\n",
    "    \n",
    "    ## getting base or parent entropy\n",
    "    main_entropy = calculate_entropy(iris)\n",
    "    \n",
    "    ## creating dictionary of this feature\n",
    "    val_count = iris[feature].value_counts().to_dict()\n",
    "    \n",
    "    total = 0\n",
    "    for key in val_count :\n",
    "        ## getting entropy for each children\n",
    "        sub_entropy = calculate_entropy(iris[iris[feature] == key])\n",
    "        ## adding the weighted average\n",
    "        total += (len(iris[iris[feature] == key]) / len(iris)) * sub_entropy\n",
    "    \n",
    "    total_entropy = (main_entropy - total)\n",
    "    \n",
    "    ### calculating split_info\n",
    "    \n",
    "    val_count = iris[feature].value_counts().to_dict()\n",
    "    \n",
    "    ## split_info = -sum((|Di| / |D|) * log((|Di| / |D|)))\n",
    "    ## Di count of ith child\n",
    "    ## D is the total count\n",
    "    split_info = 0\n",
    "    for key in val_count :\n",
    "\n",
    "        proba = (len(iris[iris[feature] == key]) / len(iris))\n",
    "        ans =  (proba * math.log(proba, 2))\n",
    "        split_info -= ans\n",
    "    \n",
    "    \n",
    "    if split_info == 0 :\n",
    "        return 0\n",
    "    gain_ratio = total_entropy / split_info\n",
    "    \n",
    "    return gain_ratio"
   ]
  },
  {
   "cell_type": "code",
   "execution_count": 13,
   "id": "bfa3d4db",
   "metadata": {
    "scrolled": true
   },
   "outputs": [
    {
     "name": "stdout",
     "output_type": "stream",
     "text": [
      "Level 0\n",
      "Count of 0 is = 50\n",
      "Count of 1 is = 50\n",
      "Count of 2 is = 50\n",
      "Current Entropy is = 1.584962500721156\n",
      "Splitting on feature petal_length with gain ratio 0.6345315547087994\n",
      "\n",
      "Level 1\n",
      "Count of 0 is = 50\n",
      "Current Entropy is = 0.0\n",
      "Reached leaf Node\n",
      "\n",
      "Level 1\n",
      "Count of 1 is = 3\n",
      "Current Entropy is = 0.0\n",
      "Reached leaf Node\n",
      "\n",
      "Level 1\n",
      "Count of 1 is = 33\n",
      "Count of 2 is = 1\n",
      "Current Entropy is = 0.19143325481419346\n",
      "Splitting on feature petal_width with gain ratio 0.14552679703433025\n",
      "\n",
      "Level 2\n",
      "Count of 1 is = 5\n",
      "Current Entropy is = 0.0\n",
      "Reached leaf Node\n",
      "\n",
      "Level 2\n",
      "Count of 1 is = 27\n",
      "Current Entropy is = 0.0\n",
      "Reached leaf Node\n",
      "\n",
      "Level 2\n",
      "Count of 1 is = 1\n",
      "Count of 2 is = 1\n",
      "Current Entropy is = 1.0\n",
      "Splitting on feature sepal_length with gain ratio 1.0\n",
      "\n",
      "Level 3\n",
      "Count of 2 is = 1\n",
      "Current Entropy is = 0.0\n",
      "Reached leaf Node\n",
      "\n",
      "Level 3\n",
      "Count of 1 is = 1\n",
      "Current Entropy is = 0.0\n",
      "Reached leaf Node\n",
      "\n",
      "Level 1\n",
      "Count of 1 is = 14\n",
      "Count of 2 is = 33\n",
      "Current Entropy is = 0.8786744932173093\n",
      "Splitting on feature petal_width with gain ratio 0.2284614905437053\n",
      "\n",
      "Level 2\n",
      "Count of 1 is = 10\n",
      "Count of 2 is = 3\n",
      "Current Entropy is = 0.7793498372920852\n",
      "Splitting on feature sepal_length with gain ratio 0.2499101324428127\n",
      "\n",
      "Level 3\n",
      "Count of 1 is = 4\n",
      "Count of 2 is = 3\n",
      "Current Entropy is = 0.9852281360342516\n",
      "Splitting on feature sepal_width with gain ratio 0.2539024613077541\n",
      "\n",
      "Level 4\n",
      "Count of 2 is = 1\n",
      "Current Entropy is = 0.0\n",
      "Reached leaf Node\n",
      "\n",
      "Level 4\n",
      "Count of 1 is = 3\n",
      "Count of 2 is = 2\n",
      "Current Entropy is = 0.9709505944546686\n",
      "Reached leaf Node\n",
      "\n",
      "Level 4\n",
      "Count of 1 is = 1\n",
      "Current Entropy is = 0.0\n",
      "Reached leaf Node\n",
      "\n",
      "Level 3\n",
      "Count of 1 is = 6\n",
      "Current Entropy is = 0.0\n",
      "Reached leaf Node\n",
      "\n",
      "Level 2\n",
      "Count of 1 is = 4\n",
      "Count of 2 is = 16\n",
      "Current Entropy is = 0.7219280948873623\n",
      "Splitting on feature sepal_width with gain ratio 0.04678484847737541\n",
      "\n",
      "Level 3\n",
      "Count of 1 is = 1\n",
      "Count of 2 is = 9\n",
      "Current Entropy is = 0.4689955935892812\n",
      "Splitting on feature sepal_length with gain ratio 0.04729562302867757\n",
      "\n",
      "Level 4\n",
      "Count of 2 is = 2\n",
      "Current Entropy is = 0.0\n",
      "Reached leaf Node\n",
      "\n",
      "Level 4\n",
      "Count of 1 is = 1\n",
      "Count of 2 is = 7\n",
      "Current Entropy is = 0.5435644431995964\n",
      "Reached leaf Node\n",
      "\n",
      "Level 3\n",
      "Count of 1 is = 3\n",
      "Count of 2 is = 7\n",
      "Current Entropy is = 0.8812908992306927\n",
      "Splitting on feature sepal_length with gain ratio 0.005975740730252702\n",
      "\n",
      "Level 4\n",
      "Count of 1 is = 2\n",
      "Count of 2 is = 4\n",
      "Current Entropy is = 0.9182958340544896\n",
      "Reached leaf Node\n",
      "\n",
      "Level 4\n",
      "Count of 1 is = 1\n",
      "Count of 2 is = 3\n",
      "Current Entropy is = 0.8112781244591328\n",
      "Reached leaf Node\n",
      "\n",
      "Level 2\n",
      "Count of 2 is = 14\n",
      "Current Entropy is = 0.0\n",
      "Reached leaf Node\n",
      "\n",
      "Level 1\n",
      "Count of 2 is = 16\n",
      "Current Entropy is = 0.0\n",
      "Reached leaf Node\n"
     ]
    }
   ],
   "source": [
    "## calling the function\n",
    "features = iris.columns[: -1]\n",
    "print_decision_tree(iris, features, 0)"
   ]
  },
  {
   "cell_type": "markdown",
   "id": "1d02f351",
   "metadata": {},
   "source": [
    "### 3. Recreating the Actual Decision Tree Class"
   ]
  },
  {
   "cell_type": "code",
   "execution_count": 14,
   "id": "5f89bf40",
   "metadata": {},
   "outputs": [],
   "source": [
    "## tree node class\n",
    "## it stores feature as the next_pointer, and category as the cuurent category\n",
    "class DecisionTreeNode :\n",
    "    \n",
    "    def __init__(self, category = None, feature = None, y_output = None) :\n",
    "        \n",
    "        self.category = category\n",
    "        self.feature = feature\n",
    "        self.y_output = y_output\n",
    "        self.children = list()"
   ]
  },
  {
   "cell_type": "code",
   "execution_count": 15,
   "id": "462d2e02",
   "metadata": {},
   "outputs": [],
   "source": [
    "class DecisionTreeClassifierRemake :\n",
    "    \n",
    "    def __init__(self) :\n",
    "        ## creates a tree node to store the complete tree in this class\n",
    "        self.TreeRoot = None\n",
    "        pass\n",
    "    \n",
    "    def get_majority_Y(self, iris) :\n",
    "        ## returns the count of child with max count\n",
    "        return list(iris.Y.value_counts().to_dict().keys())[0]\n",
    "    \n",
    "    def build_decision_tree(self, iris, features, category) :\n",
    "        ## this function will create the decision tree itself\n",
    "        ## For a node this function stores, the category will sotre the previous feature category and \n",
    "        ## feature will store the category to split the tree\n",
    "        \n",
    "        ## base case : explained in previous part as well\n",
    "        if len(features) == 0 :\n",
    "            y_output = self.get_majority_Y(iris)\n",
    "            ## creating leaf node, and storing the majority output for the path.\n",
    "            node = DecisionTreeNode(category = category, feature = None, y_output = y_output)\n",
    "            return node\n",
    "        pure = check_pure(iris)\n",
    "        if pure :\n",
    "            y_output = self.get_majority_Y(iris)\n",
    "            ## creating leaf node, and storing the majority output for the path.\n",
    "            node = DecisionTreeNode(category = category, feature = None, y_output = y_output)\n",
    "            return node\n",
    "\n",
    "        ## decide feature : already explained in previous part\n",
    "        max_gain_ratio = -math.inf\n",
    "        max_feature = None\n",
    "        for feature in features :\n",
    "\n",
    "            gain_ratio = calculate_gain_ratio(iris, feature)\n",
    "\n",
    "            if gain_ratio > max_gain_ratio :\n",
    "                max_gain_ratio = gain_ratio\n",
    "                max_feature = feature\n",
    "        \n",
    "        ## creating root, (the root node, 1st node will dont have any category as we have not split anything yet)\n",
    "        ## and y_output for that path is not ye decided.\n",
    "        root = DecisionTreeNode(category = category, feature = max_feature, y_output = None)\n",
    "\n",
    "        new_features = []\n",
    "        for feature in features :\n",
    "\n",
    "            if feature != max_feature :\n",
    "                new_features.append(feature)\n",
    "\n",
    "        unique_feature_val = list(set(iris[max_feature]))\n",
    "        for feature_val in unique_feature_val :\n",
    "\n",
    "            sub_iris = iris[iris[max_feature] == feature_val]\n",
    "            ## in the recursion call we are providing new category to store.\n",
    "            child = self.build_decision_tree(sub_iris, new_features, feature_val)\n",
    "            root.children.append(child)\n",
    "\n",
    "        return root\n",
    "    \n",
    "    def fit(self, iris) :\n",
    "        ## this function is actually called by main function\n",
    "        ## it calls the build_tree function and created the tree\n",
    "        features = iris.columns[: -1]\n",
    "        self.TreeRoot = self.build_decision_tree(iris, features, None)\n",
    "    \n",
    "    def print_decision_tree(self) :\n",
    "        ## this function calls the print_tree_function\n",
    "        if not self.TreeRoot :\n",
    "            print('Model no trained yet!!!')\n",
    "            return\n",
    "            \n",
    "        self.print_tree(self.TreeRoot, 0)\n",
    "    \n",
    "    def print_tree(self, root, level) :\n",
    "        ## this function will print the decision tree in pre order fashion\n",
    "        \n",
    "        ## base case\n",
    "        ## using 'Feature' as null ptr, as at leaf there is no feature to further split the tree.\n",
    "        print('Level =',level, end = ', ')\n",
    "        if not root.feature :\n",
    "            print('Category =',root.category, ', leaf')\n",
    "            return\n",
    "\n",
    "        print('Category =', root.category, ', Next Feature to split =',root.feature)\n",
    "        for child in root.children :\n",
    "            self.print_tree(child, level + 1)\n",
    "    \n",
    "    \n",
    "    def predict(self, x_test) :\n",
    "        ## this function is called by main. and it calls the actual predict function defined below\n",
    "        if not self.TreeRoot :\n",
    "            print('Model no trained yet!!!')\n",
    "            return \n",
    "        \n",
    "        y_pred = self.predict_output(x_test, self.TreeRoot)\n",
    "        return y_pred\n",
    "    \n",
    "    def predict_output(self, x_test, tree) :\n",
    "        ## traverse each input, for each input path it will predict the y_output\n",
    "        y_pred = list()\n",
    "        input_x = x_test.values\n",
    "        for x in input_x :\n",
    "            ans = self.get_y_pred(tree, x)\n",
    "            y_pred.append(ans)\n",
    "        return y_pred\n",
    "    \n",
    "    def get_y_pred(self, tree, x) :\n",
    "        ## base case\n",
    "        ## using 'feature' as null ptr base condition\n",
    "        if not tree.feature :\n",
    "            return tree.y_output\n",
    "        ## select the feature and check category of next\n",
    "        index = {'sepal_length' : 0, 'sepal_width' : 1, 'petal_length' : 2, 'petal_width' : 3}\n",
    "        next_feature = tree.feature\n",
    "        feature_index = index[next_feature]\n",
    "        category_to_visit = x[feature_index]\n",
    "        \n",
    "        ## since we have the input only and not the lables, the recursion call is on any best feature and not in 0 1 2 index\n",
    "        ## order, that is why we will map the labels (which are actually stored in 'Feature')\n",
    "        ## and select the feature from the input, by the index\n",
    "\n",
    "        for child in tree.children :\n",
    "            ## we will only go to one path, \n",
    "            ## only to one selected category\n",
    "            ## we need the answer of one path, not all paths.\n",
    "            ## we will match the input category to one of the paths in the split and move on\n",
    "            if child.category == category_to_visit :\n",
    "                ## returns the output\n",
    "                return self.get_y_pred(child, x)"
   ]
  },
  {
   "cell_type": "markdown",
   "id": "4bbac066",
   "metadata": {},
   "source": [
    "#### Splitting Data for Train and Test"
   ]
  },
  {
   "cell_type": "code",
   "execution_count": 16,
   "id": "b3be89eb",
   "metadata": {},
   "outputs": [],
   "source": [
    "df = iris.copy()\n",
    "iris_y = df.Y\n",
    "del df['Y']\n",
    "iris_x = df\n",
    "x_train, x_test, y_train, y_test = train_test_split(iris_x, iris_y, random_state = 42)\n",
    "## merging output column in x_train\n",
    "x_train['Y'] = y_train"
   ]
  },
  {
   "cell_type": "markdown",
   "id": "a0b4b08a",
   "metadata": {},
   "source": [
    "#### Creating Object of Self made Decision Tree "
   ]
  },
  {
   "cell_type": "code",
   "execution_count": 17,
   "id": "ecfd8ec9",
   "metadata": {},
   "outputs": [],
   "source": [
    "self_decision_tree_object = DecisionTreeClassifierRemake()"
   ]
  },
  {
   "cell_type": "markdown",
   "id": "bafa3625",
   "metadata": {},
   "source": [
    "#### Training"
   ]
  },
  {
   "cell_type": "code",
   "execution_count": 18,
   "id": "c2a77bde",
   "metadata": {},
   "outputs": [],
   "source": [
    "## note the x_train has y_output column merged above\n",
    "self_decision_tree_object.fit(x_train)"
   ]
  },
  {
   "cell_type": "markdown",
   "id": "e012bd1d",
   "metadata": {},
   "source": [
    "####  Printing the Tree"
   ]
  },
  {
   "cell_type": "code",
   "execution_count": 19,
   "id": "b9166f03",
   "metadata": {
    "scrolled": false
   },
   "outputs": [
    {
     "name": "stdout",
     "output_type": "stream",
     "text": [
      "Level = 0, Category = None , Next Feature to split = petal_length\n",
      "Level = 1, Category = 1 , leaf\n",
      "Level = 1, Category = 2 , leaf\n",
      "Level = 1, Category = 3 , Next Feature to split = petal_width\n",
      "Level = 2, Category = 2 , leaf\n",
      "Level = 2, Category = 3 , leaf\n",
      "Level = 2, Category = 4 , Next Feature to split = sepal_length\n",
      "Level = 3, Category = 1 , leaf\n",
      "Level = 3, Category = 3 , leaf\n",
      "Level = 1, Category = 4 , Next Feature to split = petal_width\n",
      "Level = 2, Category = 3 , Next Feature to split = sepal_length\n",
      "Level = 3, Category = 3 , Next Feature to split = sepal_width\n",
      "Level = 4, Category = 1 , leaf\n",
      "Level = 4, Category = 2 , leaf\n",
      "Level = 4, Category = 3 , leaf\n",
      "Level = 3, Category = 4 , leaf\n",
      "Level = 2, Category = 4 , Next Feature to split = sepal_length\n",
      "Level = 3, Category = 2 , leaf\n",
      "Level = 3, Category = 3 , Next Feature to split = sepal_width\n",
      "Level = 4, Category = 2 , leaf\n",
      "Level = 4, Category = 3 , leaf\n",
      "Level = 3, Category = 4 , Next Feature to split = sepal_width\n",
      "Level = 4, Category = 3 , leaf\n",
      "Level = 2, Category = 5 , leaf\n",
      "Level = 1, Category = 5 , leaf\n"
     ]
    }
   ],
   "source": [
    "## calling print method\n",
    "self_decision_tree_object.print_decision_tree()"
   ]
  },
  {
   "cell_type": "markdown",
   "id": "0d014abd",
   "metadata": {},
   "source": [
    "#### Testing"
   ]
  },
  {
   "cell_type": "code",
   "execution_count": 20,
   "id": "b2ecb12e",
   "metadata": {},
   "outputs": [],
   "source": [
    "## predicting the output\n",
    "y_pred = self_decision_tree_object.predict(x_test)"
   ]
  },
  {
   "cell_type": "markdown",
   "id": "61cf7e4e",
   "metadata": {},
   "source": [
    "#### Comparing Predicted Output and Actual Output"
   ]
  },
  {
   "cell_type": "code",
   "execution_count": 21,
   "id": "f857f849",
   "metadata": {},
   "outputs": [
    {
     "name": "stdout",
     "output_type": "stream",
     "text": [
      "Total Test Data Points = 38\n",
      "\n",
      "Actual : 1 Predicted : 2\n",
      "Actual : 0 Predicted : 0\n",
      "Actual : 2 Predicted : 2\n",
      "Actual : 1 Predicted : 1\n",
      "Actual : 1 Predicted : 1\n",
      "Actual : 0 Predicted : 0\n",
      "Actual : 1 Predicted : 1\n",
      "Actual : 2 Predicted : 2\n",
      "Actual : 1 Predicted : 1\n",
      "Actual : 1 Predicted : 1\n",
      "Actual : 2 Predicted : 2\n",
      "Actual : 0 Predicted : 0\n",
      "Actual : 0 Predicted : 0\n",
      "Actual : 0 Predicted : 0\n",
      "Actual : 0 Predicted : 0\n",
      "Actual : 1 Predicted : 2\n",
      "Actual : 2 Predicted : 2\n",
      "Actual : 1 Predicted : 1\n",
      "Actual : 1 Predicted : 1\n",
      "Actual : 2 Predicted : 2\n",
      "Actual : 0 Predicted : 0\n",
      "Actual : 2 Predicted : 2\n",
      "Actual : 0 Predicted : 0\n",
      "Actual : 2 Predicted : 2\n",
      "Actual : 2 Predicted : 2\n",
      "Actual : 2 Predicted : 2\n",
      "Actual : 2 Predicted : 2\n",
      "Actual : 2 Predicted : 2\n",
      "Actual : 0 Predicted : 0\n",
      "Actual : 0 Predicted : 0\n",
      "Actual : 0 Predicted : 0\n",
      "Actual : 0 Predicted : 0\n",
      "Actual : 1 Predicted : 1\n",
      "Actual : 0 Predicted : 0\n",
      "Actual : 0 Predicted : 0\n",
      "Actual : 2 Predicted : 2\n",
      "Actual : 1 Predicted : 1\n",
      "Actual : 0 Predicted : 0\n"
     ]
    }
   ],
   "source": [
    "print('Total Test Data Points =', len(y_pred))\n",
    "print()\n",
    "success_count = 0\n",
    "fail_count = 0\n",
    "for i in range(len(y_pred)) :\n",
    "    print('Actual :',list(y_test)[i], 'Predicted :',y_pred[i])\n",
    "    if y_pred[i] == list(y_test)[i] :\n",
    "        success_count += 1\n",
    "    else :\n",
    "        fail_count += 1"
   ]
  },
  {
   "cell_type": "code",
   "execution_count": 22,
   "id": "9998280d",
   "metadata": {},
   "outputs": [
    {
     "name": "stdout",
     "output_type": "stream",
     "text": [
      "Success Rate : 0.9473684210526315\n",
      "Failure Rate : 0.05263157894736842\n"
     ]
    }
   ],
   "source": [
    "success = (success_count / len(y_pred))\n",
    "fail = (fail_count / len(y_pred))\n",
    "print('Success Rate :', success)\n",
    "print('Failure Rate :', fail)"
   ]
  },
  {
   "cell_type": "markdown",
   "id": "3b9c52a8",
   "metadata": {},
   "source": [
    "#### Conclusion\n",
    "The Recreated model is working great on this test data with success rate : 94.7%"
   ]
  },
  {
   "cell_type": "markdown",
   "id": "c6b75eef",
   "metadata": {},
   "source": [
    "### 4. Visualizing Decision Tree from graph_viz using the inbuilt Classifier\n",
    "- Note : We will use the inbuilt classifier here"
   ]
  },
  {
   "cell_type": "markdown",
   "id": "1341cc40",
   "metadata": {},
   "source": [
    "#### Iris"
   ]
  },
  {
   "cell_type": "code",
   "execution_count": 23,
   "id": "e1a4c459",
   "metadata": {},
   "outputs": [
    {
     "data": {
      "text/html": [
       "<div>\n",
       "<style scoped>\n",
       "    .dataframe tbody tr th:only-of-type {\n",
       "        vertical-align: middle;\n",
       "    }\n",
       "\n",
       "    .dataframe tbody tr th {\n",
       "        vertical-align: top;\n",
       "    }\n",
       "\n",
       "    .dataframe thead th {\n",
       "        text-align: right;\n",
       "    }\n",
       "</style>\n",
       "<table border=\"1\" class=\"dataframe\">\n",
       "  <thead>\n",
       "    <tr style=\"text-align: right;\">\n",
       "      <th></th>\n",
       "      <th>sl</th>\n",
       "      <th>sw</th>\n",
       "      <th>pl</th>\n",
       "      <th>pw</th>\n",
       "    </tr>\n",
       "  </thead>\n",
       "  <tbody>\n",
       "    <tr>\n",
       "      <th>0</th>\n",
       "      <td>5.1</td>\n",
       "      <td>3.5</td>\n",
       "      <td>1.4</td>\n",
       "      <td>0.2</td>\n",
       "    </tr>\n",
       "    <tr>\n",
       "      <th>1</th>\n",
       "      <td>4.9</td>\n",
       "      <td>3.0</td>\n",
       "      <td>1.4</td>\n",
       "      <td>0.2</td>\n",
       "    </tr>\n",
       "    <tr>\n",
       "      <th>2</th>\n",
       "      <td>4.7</td>\n",
       "      <td>3.2</td>\n",
       "      <td>1.3</td>\n",
       "      <td>0.2</td>\n",
       "    </tr>\n",
       "    <tr>\n",
       "      <th>3</th>\n",
       "      <td>4.6</td>\n",
       "      <td>3.1</td>\n",
       "      <td>1.5</td>\n",
       "      <td>0.2</td>\n",
       "    </tr>\n",
       "    <tr>\n",
       "      <th>4</th>\n",
       "      <td>5.0</td>\n",
       "      <td>3.6</td>\n",
       "      <td>1.4</td>\n",
       "      <td>0.2</td>\n",
       "    </tr>\n",
       "    <tr>\n",
       "      <th>...</th>\n",
       "      <td>...</td>\n",
       "      <td>...</td>\n",
       "      <td>...</td>\n",
       "      <td>...</td>\n",
       "    </tr>\n",
       "    <tr>\n",
       "      <th>145</th>\n",
       "      <td>6.7</td>\n",
       "      <td>3.0</td>\n",
       "      <td>5.2</td>\n",
       "      <td>2.3</td>\n",
       "    </tr>\n",
       "    <tr>\n",
       "      <th>146</th>\n",
       "      <td>6.3</td>\n",
       "      <td>2.5</td>\n",
       "      <td>5.0</td>\n",
       "      <td>1.9</td>\n",
       "    </tr>\n",
       "    <tr>\n",
       "      <th>147</th>\n",
       "      <td>6.5</td>\n",
       "      <td>3.0</td>\n",
       "      <td>5.2</td>\n",
       "      <td>2.0</td>\n",
       "    </tr>\n",
       "    <tr>\n",
       "      <th>148</th>\n",
       "      <td>6.2</td>\n",
       "      <td>3.4</td>\n",
       "      <td>5.4</td>\n",
       "      <td>2.3</td>\n",
       "    </tr>\n",
       "    <tr>\n",
       "      <th>149</th>\n",
       "      <td>5.9</td>\n",
       "      <td>3.0</td>\n",
       "      <td>5.1</td>\n",
       "      <td>1.8</td>\n",
       "    </tr>\n",
       "  </tbody>\n",
       "</table>\n",
       "<p>150 rows × 4 columns</p>\n",
       "</div>"
      ],
      "text/plain": [
       "      sl   sw   pl   pw\n",
       "0    5.1  3.5  1.4  0.2\n",
       "1    4.9  3.0  1.4  0.2\n",
       "2    4.7  3.2  1.3  0.2\n",
       "3    4.6  3.1  1.5  0.2\n",
       "4    5.0  3.6  1.4  0.2\n",
       "..   ...  ...  ...  ...\n",
       "145  6.7  3.0  5.2  2.3\n",
       "146  6.3  2.5  5.0  1.9\n",
       "147  6.5  3.0  5.2  2.0\n",
       "148  6.2  3.4  5.4  2.3\n",
       "149  5.9  3.0  5.1  1.8\n",
       "\n",
       "[150 rows x 4 columns]"
      ]
     },
     "execution_count": 23,
     "metadata": {},
     "output_type": "execute_result"
    }
   ],
   "source": [
    "## loading dataset\n",
    "iris = datasets.load_iris()\n",
    "iris_x = iris.data\n",
    "iris_y = iris.target\n",
    "iris_df = pd.DataFrame(iris_x, columns = ['sl', 'sw', 'pl', 'pw'])\n",
    "iris_df"
   ]
  },
  {
   "cell_type": "code",
   "execution_count": 24,
   "id": "5ad4a0bb",
   "metadata": {},
   "outputs": [
    {
     "data": {
      "text/plain": [
       "DecisionTreeClassifier()"
      ]
     },
     "execution_count": 24,
     "metadata": {},
     "output_type": "execute_result"
    }
   ],
   "source": [
    "## using the inbuilt Decision Tree Classifier here\n",
    "DecisionTree_object = DecisionTreeClassifier()\n",
    "DecisionTree_object.fit(iris_x, iris_y)"
   ]
  },
  {
   "cell_type": "code",
   "execution_count": 25,
   "id": "6a79d51f",
   "metadata": {},
   "outputs": [
    {
     "data": {
      "image/png": "[encoded data removed]",
      "text/plain": [
       "<Figure size 640x480 with 1 Axes>"
      ]
     },
     "metadata": {},
     "output_type": "display_data"
    },
    {
     "data": {
      "text/plain": [
       "<Figure size 2000x1500 with 0 Axes>"
      ]
     },
     "metadata": {},
     "output_type": "display_data"
    }
   ],
   "source": [
    "## using plot_tree funciton\n",
    "plot_tree(DecisionTree_object, fontsize = 5, filled = True, feature_names = ['sl', 'sw', 'pl', 'pw'], \n",
    "         class_names = iris.target_names, rounded = True)\n",
    "plt.figure('Iris Tree', figsize = [20, 15])\n",
    "plt.show()"
   ]
  },
  {
   "cell_type": "markdown",
   "id": "f7b65cec",
   "metadata": {},
   "source": [
    "#### OR table"
   ]
  },
  {
   "cell_type": "code",
   "execution_count": 26,
   "id": "c701dd4b",
   "metadata": {},
   "outputs": [
    {
     "data": {
      "text/html": [
       "<div>\n",
       "<style scoped>\n",
       "    .dataframe tbody tr th:only-of-type {\n",
       "        vertical-align: middle;\n",
       "    }\n",
       "\n",
       "    .dataframe tbody tr th {\n",
       "        vertical-align: top;\n",
       "    }\n",
       "\n",
       "    .dataframe thead th {\n",
       "        text-align: right;\n",
       "    }\n",
       "</style>\n",
       "<table border=\"1\" class=\"dataframe\">\n",
       "  <thead>\n",
       "    <tr style=\"text-align: right;\">\n",
       "      <th></th>\n",
       "      <th>X1</th>\n",
       "      <th>X2</th>\n",
       "      <th>Y</th>\n",
       "    </tr>\n",
       "  </thead>\n",
       "  <tbody>\n",
       "    <tr>\n",
       "      <th>0</th>\n",
       "      <td>0</td>\n",
       "      <td>0</td>\n",
       "      <td>0</td>\n",
       "    </tr>\n",
       "    <tr>\n",
       "      <th>1</th>\n",
       "      <td>1</td>\n",
       "      <td>0</td>\n",
       "      <td>0</td>\n",
       "    </tr>\n",
       "    <tr>\n",
       "      <th>2</th>\n",
       "      <td>0</td>\n",
       "      <td>1</td>\n",
       "      <td>0</td>\n",
       "    </tr>\n",
       "    <tr>\n",
       "      <th>3</th>\n",
       "      <td>1</td>\n",
       "      <td>1</td>\n",
       "      <td>1</td>\n",
       "    </tr>\n",
       "  </tbody>\n",
       "</table>\n",
       "</div>"
      ],
      "text/plain": [
       "   X1  X2  Y\n",
       "0   0   0  0\n",
       "1   1   0  0\n",
       "2   0   1  0\n",
       "3   1   1  1"
      ]
     },
     "execution_count": 26,
     "metadata": {},
     "output_type": "execute_result"
    }
   ],
   "source": [
    "OR_table = [[0, 1, 0, 1], [0, 0, 1, 1], [0, 0, 0, 1]]\n",
    "OR_table = pd.DataFrame(np.transpose(np.array(OR_table)), columns = ['X1', 'X2', 'Y'])\n",
    "OR_df = OR_table.copy()\n",
    "OR_y = OR_df['Y']\n",
    "del OR_df['Y']\n",
    "OR_x = OR_df\n",
    "OR_table"
   ]
  },
  {
   "cell_type": "code",
   "execution_count": 27,
   "id": "a4d99bff",
   "metadata": {},
   "outputs": [
    {
     "data": {
      "text/plain": [
       "DecisionTreeClassifier()"
      ]
     },
     "execution_count": 27,
     "metadata": {},
     "output_type": "execute_result"
    }
   ],
   "source": [
    "DecisionTree_object = DecisionTreeClassifier()\n",
    "DecisionTree_object.fit(OR_x, OR_y)"
   ]
  },
  {
   "cell_type": "code",
   "execution_count": 28,
   "id": "da771e5a",
   "metadata": {},
   "outputs": [
    {
     "data": {
      "image/png": "[encoded data removed]",
      "text/plain": [
       "<Figure size 640x480 with 1 Axes>"
      ]
     },
     "metadata": {},
     "output_type": "display_data"
    },
    {
     "data": {
      "text/plain": [
       "<Figure size 2000x1500 with 0 Axes>"
      ]
     },
     "metadata": {},
     "output_type": "display_data"
    }
   ],
   "source": [
    "plot_tree(DecisionTree_object, fontsize = 12, filled = True, feature_names = ['X1', 'X2'], \n",
    "         class_names = ['0', '1'], rounded = True)\n",
    "plt.figure('OR table Tree', figsize = [20, 15])\n",
    "plt.show()"
   ]
  },
  {
   "cell_type": "markdown",
   "id": "ab2a949a",
   "metadata": {},
   "source": [
    "### BY - PRATEEK SARNA"
   ]
  }
 ],
 "metadata": {
  "kernelspec": {
   "display_name": "Python 3 (ipykernel)",
   "language": "python",
   "name": "python3"
  },
  "language_info": {
   "codemirror_mode": {
    "name": "ipython",
    "version": 3
   },
   "file_extension": ".py",
   "mimetype": "text/x-python",
   "name": "python",
   "nbconvert_exporter": "python",
   "pygments_lexer": "ipython3",
   "version": "3.9.13"
  }
 },
 "nbformat": 4,
 "nbformat_minor": 5
}
